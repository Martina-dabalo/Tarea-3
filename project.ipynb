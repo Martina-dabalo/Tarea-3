{
 "cells": [
  {
   "cell_type": "markdown",
   "metadata": {},
   "source": [
    "# Proyecto Webscraping\n",
    "Eres parte de un equipo de análisis de datos encargado de investigar y comparar los precios de compra de casas en distintas ciudades de Uruguay. Para ello, deberás scrapear una página web inmobiliaria que provea datos de propiedades en venta, como los precios, la ubicación y otros detalles relevantes.\n",
    "\n",
    "Tu objetivo es realizar un scraping de los datos de las propiedades en venta en distintas ciudades de Uruguay y almacenarlos en un archivo JSON para su posterior análisis."
   ]
  },
  {
   "metadata": {},
   "cell_type": "markdown",
   "source": "#### Importar las librerías necesarias"
  },
  {
   "metadata": {},
   "cell_type": "code",
   "source": [
    "import requests\n",
    "from bs4 import BeautifulSoup\n",
    "import json"
   ],
   "outputs": [],
   "execution_count": null
  },
  {
   "metadata": {},
   "cell_type": "markdown",
   "source": "## Agregar el URL de la inmobiliaria Infocasas"
  },
  {
   "metadata": {},
   "cell_type": "code",
   "source": [
    "url = 'https://www.infocasas.com.uy/alquiler/apartamentos'\n",
    "response = requests.get(url)\n",
    "soup = BeautifulSoup(response.text, 'html.parser')\n",
    "\n",
    "soup"
   ],
   "outputs": [],
   "execution_count": null
  },
  {
   "metadata": {},
   "cell_type": "markdown",
   "source": "### Añadir a la URL más páginas, para así obtener más propiedades"
  },
  {
   "metadata": {},
   "cell_type": "code",
   "source": [
    "base_url = 'https://www.infocasas.com.uy/alquiler/apartamentos'\n",
    "for page in range (1, 20):\n",
    "    # https://www.infocasas.com.uy/alquiler/apartamentos/pagina2\n",
    "    url = f'{base_url}/pagina{page}'\n",
    "    response = requests.get(url)\n",
    "    soup = BeautifulSoup(response.text, 'html.parser')\n",
    "\n",
    "soup"
   ],
   "outputs": [],
   "execution_count": null
  },
  {
   "metadata": {},
   "cell_type": "markdown",
   "source": "### Encontrar los Links de cada propiedad"
  },
  {
   "metadata": {},
   "cell_type": "code",
   "source": [
    "links = soup.find_all('a', class_='lc-data')\n",
    "for link in links:\n",
    "    print(link.get('href'))"
   ],
   "outputs": [],
   "execution_count": null
  },
  {
   "metadata": {},
   "cell_type": "markdown",
   "source": "#### Unimos el 'href' con la URL para que nos de el link completo"
  },
  {
   "metadata": {},
   "cell_type": "code",
   "source": [
    "links_soup = soup.find_all('a', class_='lc-data')\n",
    "all_links = []\n",
    "\n",
    "for l in links_soup:\n",
    "    link = base_url + l['href']\n",
    "    all_links.append(link)\n",
    "\n",
    "all_links"
   ],
   "outputs": [],
   "execution_count": null
  },
  {
   "metadata": {},
   "cell_type": "markdown",
   "source": "### Encontrar la Ciudad en la cuál se encuentra la propiedad"
  },
  {
   "metadata": {},
   "cell_type": "code",
   "source": [
    "locations = soup.find_all('strong', class_=\"lc-location body body-1 body-bold medium\")\n",
    "\n",
    "foo = [location.text.strip() for location in locations]\n",
    "cities = [city.split(',')[1] for city in foo]\n",
    "cities"
   ],
   "outputs": [],
   "execution_count": null
  },
  {
   "metadata": {},
   "cell_type": "markdown",
   "source": "### Encontrar la cantidad de Habitaciones por propiedad"
  },
  {
   "metadata": {},
   "cell_type": "code",
   "source": [
    "rooms = soup.find_all('strong')\n",
    "dorms = []\n",
    "for r in rooms:\n",
    "    texto = r.text.strip()\n",
    "    if \"Dorm\" in texto or \"Dorms\" in texto:\n",
    "        dorms.append(texto.strip().split()[0])\n",
    "\n",
    "dorms"
   ],
   "outputs": [],
   "execution_count": null
  },
  {
   "metadata": {},
   "cell_type": "markdown",
   "source": "### Encontrar el Precio de cada propiedad"
  },
  {
   "metadata": {},
   "cell_type": "code",
   "source": [
    "price_soup = soup.find_all('p', class_='main-price')\n",
    "prices = []\n",
    "for price in price_soup:\n",
    "    prices.append(price.text.strip().split()[1])\n",
    "\n",
    "prices"
   ],
   "outputs": [],
   "execution_count": null
  },
  {
   "metadata": {},
   "cell_type": "markdown",
   "source": "#### La consigna pide los precios en dolares, por lo que lo transformamos..."
  },
  {
   "metadata": {},
   "cell_type": "code",
   "source": [
    "price_soup = soup.find_all('p', class_='main-price')\n",
    "tipo_cambio = 39.88\n",
    "prices = []\n",
    "for price in price_soup:\n",
    "    texto = price.text.strip()\n",
    "    partes = texto.split()\n",
    "    simbolo = partes[0]\n",
    "    valor = partes[1]\n",
    "    if simbolo == '$':\n",
    "        valor_numerico = float(valor.replace('.', '').replace(',', '.'))\n",
    "        valor_final = valor_numerico * tipo_cambio\n",
    "        valor = valor_final\n",
    "    prices.append(valor)\n",
    "\n",
    "prices"
   ],
   "outputs": [],
   "execution_count": null
  },
  {
   "metadata": {},
   "cell_type": "markdown",
   "source": "### Encontra el tamaño en m²"
  },
  {
   "metadata": {},
   "cell_type": "code",
   "source": [
    "tamanos_soup = soup.find_all('strong')\n",
    "tamanos = []\n",
    "for tamano in tamanos_soup:\n",
    "    texto = tamano.text.strip()\n",
    "    if \"m²\" in texto:\n",
    "        tamanos.append(texto.strip().split()[0])\n",
    "\n",
    "tamanos"
   ],
   "outputs": [],
   "execution_count": null
  },
  {
   "metadata": {},
   "cell_type": "markdown",
   "source": "### Crear un diccionario que tenga la información para cada propiedad"
  },
  {
   "metadata": {},
   "cell_type": "code",
   "source": [
    "propiedades = []\n",
    "# Utilice la función zip para unir las listas en una sola secuencia y así poder agrupar los elementos que están en la misma posición\n",
    "# En cada bucle, se obtiene un paquete de información para cada propiedad\n",
    "for ciudad, precio, dormitorios, tamano, link in zip(cities, prices, dorms, tamanos, all_links):\n",
    "    propiedad = {\n",
    "        \"precio\": precio,\n",
    "        \"habitaciones\": dormitorios,\n",
    "        \"tamano\": tamano,\n",
    "        \"link\": link\n",
    "    }\n",
    "    propiedades.append(propiedad)\n",
    "\n",
    "propiedades"
   ],
   "outputs": [],
   "execution_count": null
  },
  {
   "metadata": {},
   "cell_type": "markdown",
   "source": [
    "### Añadir esa información a un diccionario que su clave es la ciudad\n",
    "Con este nuevo diccionario, se pueden agrupar las propiedades por ciudad"
   ]
  },
  {
   "metadata": {},
   "cell_type": "code",
   "source": [
    "# Crear un diccionario vacío para luego guardar las propiedades agrupadas por su respetiva ciudad\n",
    "ciudades_dict= {}\n",
    "for ciudad, precio, dormitorios, tamano, link in zip(cities, prices, dorms, tamanos, all_links):\n",
    "    propiedad = {\n",
    "        \"precio\": precio,\n",
    "        \"habitaciones\": dormitorios,\n",
    "        \"tamano\": tamano,\n",
    "        \"link\": link\n",
    "    }\n",
    "\n",
    "# Si la ciudad aún no está en el diccionario, se crea una clave con esa ciudad y se le asigna una lista vacía\n",
    "# Luego, la propiedad que corresponde se le asigna a la lista de esa ciudad\n",
    "    if ciudad not in ciudades_dict:\n",
    "         ciudades_dict[ciudad] = []\n",
    "    ciudades_dict[ciudad].append(propiedad)\n",
    "\n",
    "# Recorre todas las ciudades que están en el diccionario. Y se queda con las primeras 10 propiedades.\n",
    "for ciudad in ciudades_dict:\n",
    "    ciudades_dict[ciudad] = ciudades_dict[ciudad][:10]\n",
    "\n",
    "ciudades_dict"
   ],
   "outputs": [],
   "execution_count": null
  },
  {
   "metadata": {},
   "cell_type": "markdown",
   "source": [
    "### Transformar el diccionario en el formato que pide la consigna...\n",
    "Crear un nuevo diccionario (resultado), que contiene la clave 'ciudades', donde se encuentra la lista de todas las ciudades y sus respectivas propiedades"
   ]
  },
  {
   "metadata": {},
   "cell_type": "code",
   "source": [
    "resultado = {\n",
    "    'ciudades': [\n",
    "        {\n",
    "            'nombre': ciudad,\n",
    "            'propiedades': propiedades\n",
    "        }\n",
    "        for ciudad, propiedades in ciudades_dict.items()\n",
    "    ]\n",
    "}"
   ],
   "outputs": [],
   "execution_count": null
  },
  {
   "metadata": {},
   "cell_type": "code",
   "source": [
    "with open('ciudades_dict.json', 'w') as outfile:\n",
    "    json.dump(resultado, outfile, indent=4)"
   ],
   "outputs": [],
   "execution_count": null
  },
  {
   "metadata": {},
   "cell_type": "markdown",
   "source": [
    "#### Fórmula para saber la cantidad de ciudades\n",
    "Ya que por ejemplo para Canelones o Maldonado, son menos de 10 propiedades"
   ]
  },
  {
   "metadata": {},
   "cell_type": "code",
   "source": [
    "from collections import Counter\n",
    "\n",
    "conteo_ciudades = Counter(cities)\n",
    "print(conteo_ciudades)"
   ],
   "outputs": [],
   "execution_count": null
  }
 ],
 "metadata": {
  "kernelspec": {
   "display_name": "Python 3",
   "language": "python",
   "name": "python3"
  },
  "language_info": {
   "name": "python",
   "version": "3.12.1"
  }
 },
 "nbformat": 4,
 "nbformat_minor": 2
}
